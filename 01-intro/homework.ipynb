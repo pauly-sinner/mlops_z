{
 "cells": [
  {
   "cell_type": "code",
   "execution_count": 1,
   "id": "c9190e09-deb7-48b7-8b2c-2ba07674b3da",
   "metadata": {
    "vscode": {
     "languageId": "dart"
    }
   },
   "outputs": [],
   "source": [
    "import pandas as pd\n",
    "import numpy as np\n",
    "from sklearn.feature_extraction import DictVectorizer\n",
    "from sklearn.linear_model import LinearRegression\n",
    "from sklearn.metrics import mean_squared_error"
   ]
  },
  {
   "cell_type": "code",
   "execution_count": 2,
   "id": "44bcd942",
   "metadata": {},
   "outputs": [],
   "source": [
    "# !pip install pandas==1.4.2\n",
    "# !pip install scikit-learn==1.0.2"
   ]
  },
  {
   "cell_type": "code",
   "execution_count": 3,
   "id": "11a4642c",
   "metadata": {},
   "outputs": [
    {
     "name": "stdout",
     "output_type": "stream",
     "text": [
      "Python 3.9.17\n"
     ]
    }
   ],
   "source": [
    "!python -V"
   ]
  },
  {
   "cell_type": "markdown",
   "id": "a6e2d010",
   "metadata": {},
   "source": [
    "## Homework \n",
    "\n",
    "The goal of this homework is to train a simple model for predicting the duration of a ride - similar to what we did in this module."
   ]
  },
  {
   "cell_type": "markdown",
   "id": "57d0454d",
   "metadata": {},
   "source": [
    "## Q1. Downloading the data\n",
    "We'll use the same NYC taxi dataset, but instead of \"Green Taxi Trip Records\", we'll use \"Yellow Taxi Trip Records\".\n",
    "\n",
    "Download the data for January and February 2023.\n",
    "\n",
    "Read the data for January. How many columns are there?\n",
    "\n",
    "\n",
    "    16\n",
    "    17\n",
    "    18\n",
    "    19\n"
   ]
  },
  {
   "cell_type": "code",
   "execution_count": null,
   "id": "1a658d75",
   "metadata": {},
   "outputs": [],
   "source": []
  },
  {
   "cell_type": "code",
   "execution_count": 4,
   "id": "be6a0b28",
   "metadata": {
    "scrolled": true
   },
   "outputs": [],
   "source": [
    "##!pip install fastparquet"
   ]
  },
  {
   "cell_type": "code",
   "execution_count": 5,
   "id": "e957e101",
   "metadata": {},
   "outputs": [],
   "source": [
    "df_jan = pd.read_parquet('https://d37ci6vzurychx.cloudfront.net/trip-data/yellow_tripdata_2023-01.parquet')\n",
    "df_feb = pd.read_parquet('https://d37ci6vzurychx.cloudfront.net/trip-data/yellow_tripdata_2023-02.parquet')"
   ]
  },
  {
   "cell_type": "code",
   "execution_count": 8,
   "id": "b2e50c16",
   "metadata": {},
   "outputs": [
    {
     "name": "stdout",
     "output_type": "stream",
     "text": [
      "Columns 19\n"
     ]
    }
   ],
   "source": [
    "print(f'Columns {len(df_jan.columns)}')"
   ]
  },
  {
   "cell_type": "markdown",
   "id": "0d45a3e7",
   "metadata": {},
   "source": [
    "## Q2. Computing duration\n",
    "\n",
    "Now let's compute the duration variable. It should contain the duration of a ride in minutes.\n",
    "\n",
    "What's the standard deviation of the trips duration in January?\n",
    "\n",
    "\n",
    "    32.59\n",
    "    42.59\n",
    "    52.59\n",
    "    62.59\n"
   ]
  },
  {
   "cell_type": "code",
   "execution_count": 9,
   "id": "0f38b0f6",
   "metadata": {},
   "outputs": [],
   "source": [
    "def compute_duration(data):\n",
    "    data = data.copy()\n",
    "    data['duration'] = ((data['tpep_dropoff_datetime'] - data['tpep_pickup_datetime']) \n",
    "                          / np.timedelta64(1, 'm'))\n",
    "    return data"
   ]
  },
  {
   "cell_type": "code",
   "execution_count": 10,
   "id": "ff0fda16",
   "metadata": {},
   "outputs": [],
   "source": [
    "df_jan['duration'] = (df_jan['tpep_dropoff_datetime'] - df_jan['tpep_pickup_datetime']) / np.timedelta64(1, 'm')"
   ]
  },
  {
   "cell_type": "code",
   "execution_count": 11,
   "id": "27e5f8a0",
   "metadata": {},
   "outputs": [],
   "source": [
    "df_jan = compute_duration(df_jan)\n",
    "df_feb = compute_duration(df_feb)"
   ]
  },
  {
   "cell_type": "code",
   "execution_count": 12,
   "id": "98a200c1",
   "metadata": {},
   "outputs": [
    {
     "data": {
      "text/plain": [
       "42.594351241920904"
      ]
     },
     "execution_count": 12,
     "metadata": {},
     "output_type": "execute_result"
    }
   ],
   "source": [
    "df_jan['duration'].std()"
   ]
  },
  {
   "cell_type": "markdown",
   "id": "7e68828b",
   "metadata": {},
   "source": [
    "## Q3. Dropping outliers\n",
    "\n",
    "Next, we need to check the distribution of the duration variable. There are some outliers. Let's remove them and keep only the records where the duration was between 1 and 60 minutes (inclusive).\n",
    "\n",
    "What fraction of the records left after you dropped the outliers?\n",
    "\n",
    "\n",
    "    90%\n",
    "    92%\n",
    "    95%\n",
    "    98%\n"
   ]
  },
  {
   "cell_type": "code",
   "execution_count": 13,
   "id": "2b3d11e8",
   "metadata": {},
   "outputs": [],
   "source": [
    "def drop_outliters(data):\n",
    "    data = data[(data['duration']>=1) &\n",
    "                                 (data['duration'] <=60)]\n",
    "    return data"
   ]
  },
  {
   "cell_type": "code",
   "execution_count": 14,
   "id": "3808d547",
   "metadata": {},
   "outputs": [],
   "source": [
    "df_jan_cut_outliers = drop_outliters(df_jan)\n",
    "\n",
    "df_feb_cut_outliers = drop_outliters(df_feb)\n"
   ]
  },
  {
   "cell_type": "code",
   "execution_count": 15,
   "id": "41ca3342",
   "metadata": {},
   "outputs": [
    {
     "data": {
      "text/plain": [
       "0.9812202822125979"
      ]
     },
     "execution_count": 15,
     "metadata": {},
     "output_type": "execute_result"
    }
   ],
   "source": [
    "len(df_jan_cut_outliers) / len(df_jan)"
   ]
  },
  {
   "cell_type": "code",
   "execution_count": 16,
   "id": "cb6eff7a",
   "metadata": {},
   "outputs": [
    {
     "data": {
      "text/plain": [
       "0.9800944077722545"
      ]
     },
     "execution_count": 16,
     "metadata": {},
     "output_type": "execute_result"
    }
   ],
   "source": [
    "len(df_feb_cut_outliers) / len(df_feb)"
   ]
  },
  {
   "cell_type": "markdown",
   "id": "4ebfb54d",
   "metadata": {},
   "source": [
    "## Q4. One-hot encoding\n",
    "Let's apply one-hot encoding to the pickup and dropoff location IDs. We'll use only these two features for our model.\n",
    "\n",
    "    - Turn the dataframe into a list of dictionaries (remember to re-cast the ids to strings - otherwise it will label encode them)\n",
    "    - Fit a dictionary vectorizer\n",
    "    - Get a feature matrix from it\n",
    "\n",
    "What's the dimensionality of this matrix (number of columns)?\n",
    "\n",
    "    2\n",
    "    155\n",
    "    345\n",
    "    515\n",
    "    715\n"
   ]
  },
  {
   "cell_type": "code",
   "execution_count": 17,
   "id": "1da5289e",
   "metadata": {},
   "outputs": [],
   "source": [
    "def one_hot(data, cols):\n",
    "    data = data[cols].astype(str).copy()\n",
    "    dicts = data.to_dict(orient='records')\n",
    "    return dicts"
   ]
  },
  {
   "cell_type": "code",
   "execution_count": 18,
   "id": "0e1e3423",
   "metadata": {},
   "outputs": [],
   "source": [
    "categorical = ['PULocationID', 'DOLocationID']\n",
    "\n",
    "train_dicts = one_hot(df_jan_cut_outliers, categorical)\n"
   ]
  },
  {
   "cell_type": "code",
   "execution_count": 19,
   "id": "c4eb957e",
   "metadata": {},
   "outputs": [],
   "source": [
    "dv = DictVectorizer()\n",
    "matrix_train = dv.fit_transform(train_dicts)\n"
   ]
  },
  {
   "cell_type": "code",
   "execution_count": 20,
   "id": "b75b36f2",
   "metadata": {},
   "outputs": [
    {
     "data": {
      "text/plain": [
       "<3009173x515 sparse matrix of type '<class 'numpy.float64'>'\n",
       "\twith 6018346 stored elements in Compressed Sparse Row format>"
      ]
     },
     "execution_count": 20,
     "metadata": {},
     "output_type": "execute_result"
    }
   ],
   "source": [
    "matrix_train"
   ]
  },
  {
   "cell_type": "markdown",
   "id": "16be259b",
   "metadata": {},
   "source": [
    "## Q5. Training a model\n",
    "\n",
    "Now let's use the feature matrix from the previous step to train a model.\n",
    "\n",
    "    Train a plain linear regression model with default parameters\n",
    "    Calculate the RMSE of the model on the training data\n",
    "\n",
    "What's the RMSE on train?\n",
    "\n",
    "    3.64\n",
    "    7.64\n",
    "    11.64\n",
    "    16.64\n"
   ]
  },
  {
   "cell_type": "code",
   "execution_count": 21,
   "id": "d8644a73",
   "metadata": {},
   "outputs": [
    {
     "data": {
      "text/plain": [
       "7.649261929201487"
      ]
     },
     "execution_count": 21,
     "metadata": {},
     "output_type": "execute_result"
    }
   ],
   "source": [
    "target = 'duration'\n",
    "y_train = df_jan_cut_outliers[target].values\n",
    "\n",
    "lr = LinearRegression()\n",
    "lr.fit(matrix_train, y_train)\n",
    "\n",
    "y_pred = lr.predict(matrix_train)\n",
    "\n",
    "mean_squared_error(y_train, y_pred, squared=False)"
   ]
  },
  {
   "cell_type": "markdown",
   "id": "5bb81692",
   "metadata": {},
   "source": [
    "## Q6. Evaluating the model\n",
    "\n",
    "Now let's apply this model to the validation dataset (February 2023).\n",
    "\n",
    "What's the RMSE on validation?\n",
    "\n",
    "    3.81\n",
    "    7.81\n",
    "    11.81\n",
    "    16.81\n"
   ]
  },
  {
   "cell_type": "code",
   "execution_count": 22,
   "id": "774d5d62",
   "metadata": {},
   "outputs": [
    {
     "data": {
      "text/plain": [
       "7.811819793542861"
      ]
     },
     "execution_count": 22,
     "metadata": {},
     "output_type": "execute_result"
    }
   ],
   "source": [
    "y_valid = df_feb_cut_outliers[target].values\n",
    "\n",
    "valid_dicts = one_hot(df_feb_cut_outliers, categorical)\n",
    "matrix_valid = dv.transform(valid_dicts)\n",
    "\n",
    "y_pred_val = lr.predict(matrix_valid)\n",
    "\n",
    "mean_squared_error(y_valid, y_pred_val, squared=False)"
   ]
  },
  {
   "cell_type": "code",
   "execution_count": null,
   "id": "f6b1d6b4",
   "metadata": {},
   "outputs": [],
   "source": []
  }
 ],
 "metadata": {
  "kernelspec": {
   "display_name": "Python 3 (ipykernel)",
   "language": "python",
   "name": "python3"
  },
  "language_info": {
   "codemirror_mode": {
    "name": "ipython",
    "version": 3
   },
   "file_extension": ".py",
   "mimetype": "text/x-python",
   "name": "python",
   "nbconvert_exporter": "python",
   "pygments_lexer": "ipython3",
   "version": "3.9.12"
  }
 },
 "nbformat": 4,
 "nbformat_minor": 5
}
