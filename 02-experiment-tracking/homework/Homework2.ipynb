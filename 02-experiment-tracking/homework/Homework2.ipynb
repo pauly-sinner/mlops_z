{
 "cells": [
  {
   "cell_type": "code",
   "execution_count": 1,
   "id": "1824fe6d",
   "metadata": {},
   "outputs": [],
   "source": [
    "import mlflow\n",
    "import pandas as pd"
   ]
  },
  {
   "cell_type": "markdown",
   "id": "48b0bc65",
   "metadata": {},
   "source": [
    "## Homework\n",
    "\n",
    "The goal of this homework is to get familiar with MLflow, the tool for experiment tracking and \n",
    "model management."
   ]
  },
  {
   "cell_type": "markdown",
   "id": "1e187227",
   "metadata": {},
   "source": [
    "## Q1. Install MLflow\n",
    "\n",
    "To get started with MLflow you'll need to install the MLflow Python package.\n",
    "\n",
    "For this we recommend creating a separate Python environment, for example, you can use [conda environments](https://docs.conda.io/projects/conda/en/latest/user-guide/getting-started.html#managing-envs), and then install the package there with `pip` or `conda`.\n",
    "\n",
    "Once you installed the package, run the command `mlflow --version` and check the output.\n",
    "\n",
    "What's the version that you have?"
   ]
  },
  {
   "cell_type": "code",
   "execution_count": 2,
   "id": "4e2f9bc2",
   "metadata": {},
   "outputs": [
    {
     "name": "stdout",
     "output_type": "stream",
     "text": [
      "mlflow, version 2.13.0\r\n"
     ]
    }
   ],
   "source": [
    "!mlflow --version"
   ]
  },
  {
   "cell_type": "markdown",
   "id": "fb17a280",
   "metadata": {},
   "source": [
    "## Q2. Download and preprocess the data\n",
    "\n",
    "We'll use the Green Taxi Trip Records dataset to predict the duration of each trip. \n",
    "\n",
    "Download the data for January, February and March 2023 in parquet format from [here](https://www1.nyc.gov/site/tlc/about/tlc-trip-record-data.page).\n",
    "\n",
    "Use the sc*ript `preprocess_data.py` located in the folder [`homework`](homework) to preprocess the data.\n",
    "\n",
    "The script will:\n",
    "\n",
    "* load the data from the folder `<TAXI_DATA_FOLDER>` (the folder where you have downloaded the data),\n",
    "* fit a `DictVectorizer` on the training set (January 2023 data),\n",
    "* save the preprocessed datasets and the `DictVectorizer` to disk.\n",
    "\n",
    "Your task is to download the datasets and then execute this command:\n",
    "\n",
    "```\n",
    "python preprocess_data.py --raw_data_path <TAXI_DATA_FOLDER> --dest_path ./output\n",
    "```\n",
    "\n",
    "Tip: go to `02-experiment-tracking/homework/` folder before executing the command and change the value of `<TAXI_DATA_FOLDER>` to the location where you saved the data.\n",
    "\n",
    "How many files were saved to `OUTPUT_FOLDER`?\n",
    "\n",
    "* 1\n",
    "* 3\n",
    "* 4 +++\n",
    "* 7\n"
   ]
  },
  {
   "cell_type": "code",
   "execution_count": 3,
   "id": "70f52c6e",
   "metadata": {},
   "outputs": [],
   "source": [
    "jan = pd.read_parquet('https://d37ci6vzurychx.cloudfront.net/trip-data/green_tripdata_2023-01.parquet')\n",
    "feb = pd.read_parquet('https://d37ci6vzurychx.cloudfront.net/trip-data/green_tripdata_2023-02.parquet')\n",
    "march = pd.read_parquet('https://d37ci6vzurychx.cloudfront.net/trip-data/green_tripdata_2023-03.parquet')"
   ]
  },
  {
   "cell_type": "code",
   "execution_count": 4,
   "id": "b5861707",
   "metadata": {},
   "outputs": [],
   "source": [
    "jan.to_parquet('data/green_tripdata_2023-01.parquet')\n",
    "feb.to_parquet('data/green_tripdata_2023-02.parquet')\n",
    "march.to_parquet('data/green_tripdata_2023-03.parquet')"
   ]
  },
  {
   "cell_type": "markdown",
   "id": "526f5860",
   "metadata": {},
   "source": [
    "We will train a `RandomForestRegressor` (from Scikit-Learn) on the taxi dataset.\n",
    "\n",
    "We have prepared the training script `train.py` for this exercise, which can be also found in the folder `homework`. \n",
    "\n",
    "The script will:\n",
    "\n",
    "* load the datasets produced by the previous step,\n",
    "* train the model on the training set,\n",
    "* calculate the RMSE score on the validation set.\n",
    "\n",
    "Your task is to modify the script to enable **autologging** with MLflow, execute the script and then launch the MLflow UI to check that the experiment run was properly tracked. \n",
    "\n",
    "Tip 1: don't forget to wrap the training code with a `with mlflow.start_run():` statement as we showed in the videos.\n",
    "\n",
    "Tip 2: don't modify the hyperparameters of the model to make sure that the training will finish quickly.\n",
    "\n",
    "What is the value of the `min_samples_split` parameter:\n",
    "\n",
    "* 2 +++\n",
    "* 4\n",
    "* 8\n",
    "* 10"
   ]
  },
  {
   "cell_type": "code",
   "execution_count": 5,
   "id": "74b1875e",
   "metadata": {},
   "outputs": [],
   "source": [
    "## mlflow server --backend-store-uri sqlite:///mlflow.db"
   ]
  },
  {
   "cell_type": "markdown",
   "id": "1f34b2a6",
   "metadata": {},
   "source": [
    "## Q4. Launch the tracking server locally\n",
    "\n",
    "Now we want to manage the entire lifecycle of our ML model. In this step, you'll need to launch a tracking server. This way we will also have access to the model registry. \n",
    "\n",
    "Your task is to:\n",
    "\n",
    "* launch the tracking server on your local machine,\n",
    "* select a SQLite db for the backend store and a folder called `artifacts` for the artifacts store.\n",
    "\n",
    "You should keep the tracking server running to work on the next two exercises that use the server.\n",
    "\n",
    "In addition to `backend-store-uri`, what else do you need to pass to properly configure the server?\n",
    "\n",
    "* `default-artifact-root` +++\n",
    "* `serve-artifacts`\n",
    "* `artifacts-only`\n",
    "* `artifacts-destination`"
   ]
  },
  {
   "cell_type": "code",
   "execution_count": 6,
   "id": "13dd29c3",
   "metadata": {},
   "outputs": [],
   "source": [
    "## mlflow server --backend-store-uri sqlite:///mlflow.db --default-artifact-root ./mlruns/artifacts"
   ]
  },
  {
   "cell_type": "markdown",
   "id": "1e2576dc",
   "metadata": {},
   "source": [
    "## Q5. Tune model hyperparameters\n",
    "\n",
    "Now let's try to reduce the validation error by tuning the hyperparameters of the `RandomForestRegressor` using `hyperopt`. \n",
    "We have prepared the script `hpo.py` for this exercise. \n",
    "\n",
    "Your task is to modify the script `hpo.py` and make sure that the validation RMSE is logged to the tracking server for each run of the hyperparameter optimization (you will need to add a few lines of code to the `objective` function) and run the script without passing any parameters.\n",
    "\n",
    "After that, open UI and explore the runs from the experiment called `random-forest-hyperopt` to answer the question below.\n",
    "\n",
    "Note: Don't use autologging for this exercise.\n",
    "\n",
    "The idea is to just log the information that you need to answer the question below, including:\n",
    "\n",
    "* the list of hyperparameters that are passed to the `objective` function during the optimization,\n",
    "* the RMSE obtained on the validation set (February 2023 data).\n",
    "\n",
    "What's the best validation RMSE that you got?\n",
    "\n",
    "* 4.817\n",
    "* 5.335 +++\n",
    "* 5.818\n",
    "* 6.336"
   ]
  },
  {
   "cell_type": "markdown",
   "id": "b2fa3c81",
   "metadata": {},
   "source": [
    "## Q6. Promote the best model to the model registry\n",
    "\n",
    "The results from the hyperparameter optimization are quite good. So, we can assume that we are ready to test some of these models in production. \n",
    "In this exercise, you'll promote the best model to the model registry. We have prepared a script called `register_model.py`, which will check the results from the previous step and select the top 5 runs. \n",
    "After that, it will calculate the RMSE of those models on the test set (March 2023 data) and save the results to a new experiment called `random-forest-best-models`.\n",
    "\n",
    "Your task is to update the script `register_model.py` so that it selects the model with the lowest RMSE on the test set and registers it to the model registry.\n",
    "\n",
    "Tip 1: you can use the method `search_runs` from the `MlflowClient` to get the model with the lowest RMSE,\n",
    "\n",
    "Tip 2: to register the model you can use the method `mlflow.register_model` and you will need to pass the right `model_uri` in the form of a string that looks like this: `\"runs:/<RUN_ID>/model\"`, and the name of the model (make sure to choose a good one!).\n",
    "\n",
    "What is the test RMSE of the best model?\n",
    "\n",
    "* 5.060\n",
    "* 5.567 +++\n",
    "* 6.061\n",
    "* 6.568"
   ]
  },
  {
   "cell_type": "code",
   "execution_count": 13,
   "id": "6c36a18f",
   "metadata": {},
   "outputs": [],
   "source": [
    "import os\n",
    "import pickle\n",
    "import click\n",
    "import mlflow\n",
    "\n",
    "from mlflow.entities import ViewType\n",
    "from mlflow.tracking import MlflowClient\n",
    "from sklearn.ensemble import RandomForestRegressor\n",
    "from sklearn.metrics import mean_squared_error\n",
    "\n",
    "HPO_EXPERIMENT_NAME = \"random-forest-hyperopt\"\n",
    "EXPERIMENT_NAME = \"random-forest-best-models\"\n",
    "RF_PARAMS = ['max_depth', 'n_estimators', 'min_samples_split', 'min_samples_leaf', 'random_state']\n",
    "\n",
    "mlflow.set_tracking_uri(\"http://127.0.0.1:5000\")\n",
    "mlflow.set_experiment(EXPERIMENT_NAME)\n",
    "mlflow.sklearn.autolog()\n",
    "\n",
    "\n",
    "def load_pickle(filename):\n",
    "    with open(filename, \"rb\") as f_in:\n",
    "        return pickle.load(f_in)\n",
    "\n",
    "\n",
    "def train_and_log_model(data_path, params):\n",
    "    X_train, y_train = load_pickle(os.path.join(data_path, \"train.pkl\"))\n",
    "    X_val, y_val = load_pickle(os.path.join(data_path, \"val.pkl\"))\n",
    "    X_test, y_test = load_pickle(os.path.join(data_path, \"test.pkl\"))\n",
    "\n",
    "    with mlflow.start_run():\n",
    "        for param in RF_PARAMS:\n",
    "            params[param] = int(params[param])\n",
    "\n",
    "        rf = RandomForestRegressor(**params)\n",
    "        rf.fit(X_train, y_train)\n",
    "\n",
    "        # Evaluate model on the validation and test sets\n",
    "        val_rmse = mean_squared_error(y_val, rf.predict(X_val), squared=False)\n",
    "        mlflow.log_metric(\"val_rmse\", val_rmse)\n",
    "        test_rmse = mean_squared_error(y_test, rf.predict(X_test), squared=False)\n",
    "        mlflow.log_metric(\"test_rmse\", test_rmse)\n",
    "\n"
   ]
  },
  {
   "cell_type": "code",
   "execution_count": 14,
   "id": "f86828d3",
   "metadata": {},
   "outputs": [],
   "source": [
    "data_path, top_n =  \"./output\", 5"
   ]
  },
  {
   "cell_type": "code",
   "execution_count": 26,
   "id": "b6dc78a2",
   "metadata": {},
   "outputs": [],
   "source": [
    "client = MlflowClient()\n",
    "\n",
    "# Retrieve the top_n model runs and log the models\n",
    "experiment = client.get_experiment_by_name(HPO_EXPERIMENT_NAME)\n",
    "runs = client.search_runs(\n",
    "    experiment_ids=experiment.experiment_id,\n",
    "    run_view_type=ViewType.ACTIVE_ONLY,\n",
    "    max_results=top_n,\n",
    "    order_by=[\"metrics.rmse ASC\"]\n",
    ")"
   ]
  },
  {
   "cell_type": "code",
   "execution_count": 54,
   "id": "7d94017d",
   "metadata": {
    "scrolled": true
   },
   "outputs": [
    {
     "data": {
      "text/plain": [
       "<Run: data=<RunData: metrics={'mean_squared_error-2_X_test': 5.5941605655803635,\n",
       " 'mean_squared_error_X_val': 5.3633599989832135,\n",
       " 'test_rmse': 5.5941605655803635,\n",
       " 'training_mean_absolute_error': 3.323916924052877,\n",
       " 'training_mean_squared_error': 26.08294493276463,\n",
       " 'training_r2_score': 0.6796805248104354,\n",
       " 'training_root_mean_squared_error': 5.107146456952711,\n",
       " 'training_score': 0.6796805248104354,\n",
       " 'val_rmse': 5.3633599989832135}, params={'bootstrap': 'True',\n",
       " 'ccp_alpha': '0.0',\n",
       " 'criterion': 'squared_error',\n",
       " 'max_depth': '14',\n",
       " 'max_features': 'auto',\n",
       " 'max_leaf_nodes': 'None',\n",
       " 'max_samples': 'None',\n",
       " 'min_impurity_decrease': '0.0',\n",
       " 'min_samples_leaf': '2',\n",
       " 'min_samples_split': '6',\n",
       " 'min_weight_fraction_leaf': '0.0',\n",
       " 'n_estimators': '23',\n",
       " 'n_jobs': 'None',\n",
       " 'oob_score': 'False',\n",
       " 'random_state': '42',\n",
       " 'verbose': '0',\n",
       " 'warm_start': 'False'}, tags={'estimator_class': 'sklearn.ensemble._forest.RandomForestRegressor',\n",
       " 'estimator_name': 'RandomForestRegressor',\n",
       " 'mlflow.log-model.history': '[{\"run_id\": \"b87f6df44e1944c6913d8ad9209a4414\", '\n",
       "                             '\"artifact_path\": \"model\", \"utc_time_created\": '\n",
       "                             '\"2024-05-25 18:47:40.989044\", \"flavors\": '\n",
       "                             '{\"python_function\": {\"model_path\": \"model.pkl\", '\n",
       "                             '\"predict_fn\": \"predict\", \"loader_module\": '\n",
       "                             '\"mlflow.sklearn\", \"python_version\": \"3.9.12\", '\n",
       "                             '\"env\": {\"conda\": \"conda.yaml\", \"virtualenv\": '\n",
       "                             '\"python_env.yaml\"}}, \"sklearn\": '\n",
       "                             '{\"pickled_model\": \"model.pkl\", '\n",
       "                             '\"sklearn_version\": \"1.0.2\", '\n",
       "                             '\"serialization_format\": \"cloudpickle\", \"code\": '\n",
       "                             'null}}, \"model_uuid\": '\n",
       "                             '\"da1d5ff3b4ae4af98604a78d6eb554c6\", '\n",
       "                             '\"mlflow_version\": \"2.13.0\", \"signature\": '\n",
       "                             '{\"inputs\": \"[{\\\\\"type\\\\\": \\\\\"tensor\\\\\", '\n",
       "                             '\\\\\"tensor-spec\\\\\": {\\\\\"dtype\\\\\": \\\\\"float64\\\\\", '\n",
       "                             '\\\\\"shape\\\\\": [-1, 5702]}}]\", \"outputs\": '\n",
       "                             '\"[{\\\\\"type\\\\\": \\\\\"tensor\\\\\", \\\\\"tensor-spec\\\\\": '\n",
       "                             '{\\\\\"dtype\\\\\": \\\\\"float64\\\\\", \\\\\"shape\\\\\": '\n",
       "                             '[-1]}}]\", \"params\": null}, \"model_size_bytes\": '\n",
       "                             '2292106}]',\n",
       " 'mlflow.runName': 'rebellious-vole-955',\n",
       " 'mlflow.source.name': '/home/codespace/anaconda3/lib/python3.9/site-packages/ipykernel_launcher.py',\n",
       " 'mlflow.source.type': 'LOCAL',\n",
       " 'mlflow.user': 'codespace'}>, info=<RunInfo: artifact_uri='/workspaces/mlops_z/02-experiment-tracking/homework/mlruns/artifacts/3/b87f6df44e1944c6913d8ad9209a4414/artifacts', end_time=1716662864109, experiment_id='3', lifecycle_stage='active', run_id='b87f6df44e1944c6913d8ad9209a4414', run_name='rebellious-vole-955', run_uuid='b87f6df44e1944c6913d8ad9209a4414', start_time=1716662856434, status='FINISHED', user_id='codespace'>, inputs=<RunInputs: dataset_inputs=[<DatasetInput: dataset=<Dataset: digest='7edda543', name='dataset', profile=('{\"features_shape\": [62574, 5702], \"features_size\": 356796948, '\n",
       " '\"features_nbytes\": 2854375584}'), schema=('{\"mlflow_tensorspec\": {\"features\": \"[{\\\\\"type\\\\\": \\\\\"tensor\\\\\", '\n",
       " '\\\\\"tensor-spec\\\\\": {\\\\\"dtype\\\\\": \\\\\"float64\\\\\", \\\\\"shape\\\\\": [-1, 5702]}}]\", '\n",
       " '\"targets\": null}}'), source=('{\"tags\": {\"mlflow.user\": \"codespace\", \"mlflow.source.name\": \"train.py\", '\n",
       " '\"mlflow.source.type\": \"LOCAL\", \"mlflow.source.git.commit\": '\n",
       " '\"fe0060c386ed566badb4907fa363a4d7bd790479\"}}'), source_type='code'>, tags=[<InputTag: key='mlflow.data.context', value='eval'>]>,\n",
       " <DatasetInput: dataset=<Dataset: digest='5a2feb47', name='dataset', profile=('{\"features_shape\": [69392, 5702], \"features_size\": 395673184, '\n",
       " '\"features_nbytes\": 3165385472}'), schema=('{\"mlflow_tensorspec\": {\"features\": \"[{\\\\\"type\\\\\": \\\\\"tensor\\\\\", '\n",
       " '\\\\\"tensor-spec\\\\\": {\\\\\"dtype\\\\\": \\\\\"float64\\\\\", \\\\\"shape\\\\\": [-1, 5702]}}]\", '\n",
       " '\"targets\": null}}'), source=('{\"tags\": {\"mlflow.user\": \"codespace\", \"mlflow.source.name\": '\n",
       " '\"/home/codespace/anaconda3/lib/python3.9/site-packages/ipykernel_launcher.py\", '\n",
       " '\"mlflow.source.type\": \"LOCAL\"}}'), source_type='code'>, tags=[<InputTag: key='mlflow.data.context', value='eval'>]>]>>"
      ]
     },
     "execution_count": 54,
     "metadata": {},
     "output_type": "execute_result"
    }
   ],
   "source": [
    "runs[0]"
   ]
  },
  {
   "cell_type": "code",
   "execution_count": 18,
   "id": "1317e1c9",
   "metadata": {},
   "outputs": [
    {
     "name": "stderr",
     "output_type": "stream",
     "text": [
      "2024/05/25 18:46:54 WARNING mlflow.sklearn: Failed to log training dataset information to MLflow Tracking. Reason: 'numpy.ndarray' object has no attribute 'toarray'\n",
      "2024/05/25 18:47:01 WARNING mlflow.utils.autologging_utils: MLflow autologging encountered a warning: \"/home/codespace/anaconda3/lib/python3.9/site-packages/_distutils_hack/__init__.py:30: UserWarning: Setuptools is replacing distutils.\"\n",
      "2024/05/25 18:47:07 WARNING mlflow.sklearn: Failed to log training dataset information to MLflow Tracking. Reason: 'numpy.ndarray' object has no attribute 'toarray'\n",
      "2024/05/25 18:47:19 WARNING mlflow.sklearn: Failed to log training dataset information to MLflow Tracking. Reason: 'numpy.ndarray' object has no attribute 'toarray'\n",
      "2024/05/25 18:47:27 WARNING mlflow.sklearn: Failed to log training dataset information to MLflow Tracking. Reason: 'numpy.ndarray' object has no attribute 'toarray'\n",
      "2024/05/25 18:47:36 WARNING mlflow.sklearn: Failed to log training dataset information to MLflow Tracking. Reason: 'numpy.ndarray' object has no attribute 'toarray'\n"
     ]
    }
   ],
   "source": [
    "for run in runs:\n",
    "    train_and_log_model(data_path=data_path, params=run.data.params)"
   ]
  },
  {
   "cell_type": "code",
   "execution_count": 52,
   "id": "8df046e0",
   "metadata": {},
   "outputs": [],
   "source": [
    "experiment = client.get_experiment_by_name(EXPERIMENT_NAME)\n",
    "runs = client.search_runs(experiment_ids=[experiment.experiment_id])\n",
    "# Поиск лучшего запуска\n",
    "best_run = min(runs, key=lambda run: run.data.metrics['test_rmse'])\n",
    "best_run_id = best_run.info.run_id"
   ]
  },
  {
   "cell_type": "code",
   "execution_count": 55,
   "id": "67f33275",
   "metadata": {
    "scrolled": true
   },
   "outputs": [
    {
     "data": {
      "text/plain": [
       "<Run: data=<RunData: metrics={'mean_squared_error-2_X_test': 5.567408012462019,\n",
       " 'mean_squared_error_X_val': 5.335419588556921,\n",
       " 'test_rmse': 5.567408012462019,\n",
       " 'training_mean_absolute_error': 3.23365652419934,\n",
       " 'training_mean_squared_error': 24.785660360279664,\n",
       " 'training_r2_score': 0.6956122194293166,\n",
       " 'training_root_mean_squared_error': 4.978519896543516,\n",
       " 'training_score': 0.6956122194293166,\n",
       " 'val_rmse': 5.335419588556921}, params={'bootstrap': 'True',\n",
       " 'ccp_alpha': '0.0',\n",
       " 'criterion': 'squared_error',\n",
       " 'max_depth': '19',\n",
       " 'max_features': 'auto',\n",
       " 'max_leaf_nodes': 'None',\n",
       " 'max_samples': 'None',\n",
       " 'min_impurity_decrease': '0.0',\n",
       " 'min_samples_leaf': '2',\n",
       " 'min_samples_split': '2',\n",
       " 'min_weight_fraction_leaf': '0.0',\n",
       " 'n_estimators': '11',\n",
       " 'n_jobs': 'None',\n",
       " 'oob_score': 'False',\n",
       " 'random_state': '42',\n",
       " 'verbose': '0',\n",
       " 'warm_start': 'False'}, tags={'estimator_class': 'sklearn.ensemble._forest.RandomForestRegressor',\n",
       " 'estimator_name': 'RandomForestRegressor',\n",
       " 'mlflow.log-model.history': '[{\"run_id\": \"9aa56044a50e4154bc04daaa88a12119\", '\n",
       "                             '\"artifact_path\": \"model\", \"utc_time_created\": '\n",
       "                             '\"2024-05-25 18:46:57.813466\", \"flavors\": '\n",
       "                             '{\"python_function\": {\"model_path\": \"model.pkl\", '\n",
       "                             '\"predict_fn\": \"predict\", \"loader_module\": '\n",
       "                             '\"mlflow.sklearn\", \"python_version\": \"3.9.12\", '\n",
       "                             '\"env\": {\"conda\": \"conda.yaml\", \"virtualenv\": '\n",
       "                             '\"python_env.yaml\"}}, \"sklearn\": '\n",
       "                             '{\"pickled_model\": \"model.pkl\", '\n",
       "                             '\"sklearn_version\": \"1.0.2\", '\n",
       "                             '\"serialization_format\": \"cloudpickle\", \"code\": '\n",
       "                             'null}}, \"model_uuid\": '\n",
       "                             '\"32915a01de034a24854b8f66782bc838\", '\n",
       "                             '\"mlflow_version\": \"2.13.0\", \"signature\": '\n",
       "                             '{\"inputs\": \"[{\\\\\"type\\\\\": \\\\\"tensor\\\\\", '\n",
       "                             '\\\\\"tensor-spec\\\\\": {\\\\\"dtype\\\\\": \\\\\"float64\\\\\", '\n",
       "                             '\\\\\"shape\\\\\": [-1, 5702]}}]\", \"outputs\": '\n",
       "                             '\"[{\\\\\"type\\\\\": \\\\\"tensor\\\\\", \\\\\"tensor-spec\\\\\": '\n",
       "                             '{\\\\\"dtype\\\\\": \\\\\"float64\\\\\", \\\\\"shape\\\\\": '\n",
       "                             '[-1]}}]\", \"params\": null}, \"model_size_bytes\": '\n",
       "                             '2167018}]',\n",
       " 'mlflow.runName': 'smiling-finch-766',\n",
       " 'mlflow.source.name': '/home/codespace/anaconda3/lib/python3.9/site-packages/ipykernel_launcher.py',\n",
       " 'mlflow.source.type': 'LOCAL',\n",
       " 'mlflow.user': 'codespace'}>, info=<RunInfo: artifact_uri='/workspaces/mlops_z/02-experiment-tracking/homework/mlruns/artifacts/3/9aa56044a50e4154bc04daaa88a12119/artifacts', end_time=1716662826799, experiment_id='3', lifecycle_stage='active', run_id='9aa56044a50e4154bc04daaa88a12119', run_name='smiling-finch-766', run_uuid='9aa56044a50e4154bc04daaa88a12119', start_time=1716662814264, status='FINISHED', user_id='codespace'>, inputs=<RunInputs: dataset_inputs=[<DatasetInput: dataset=<Dataset: digest='7edda543', name='dataset', profile=('{\"features_shape\": [62574, 5702], \"features_size\": 356796948, '\n",
       " '\"features_nbytes\": 2854375584}'), schema=('{\"mlflow_tensorspec\": {\"features\": \"[{\\\\\"type\\\\\": \\\\\"tensor\\\\\", '\n",
       " '\\\\\"tensor-spec\\\\\": {\\\\\"dtype\\\\\": \\\\\"float64\\\\\", \\\\\"shape\\\\\": [-1, 5702]}}]\", '\n",
       " '\"targets\": null}}'), source=('{\"tags\": {\"mlflow.user\": \"codespace\", \"mlflow.source.name\": \"train.py\", '\n",
       " '\"mlflow.source.type\": \"LOCAL\", \"mlflow.source.git.commit\": '\n",
       " '\"fe0060c386ed566badb4907fa363a4d7bd790479\"}}'), source_type='code'>, tags=[<InputTag: key='mlflow.data.context', value='eval'>]>,\n",
       " <DatasetInput: dataset=<Dataset: digest='5a2feb47', name='dataset', profile=('{\"features_shape\": [69392, 5702], \"features_size\": 395673184, '\n",
       " '\"features_nbytes\": 3165385472}'), schema=('{\"mlflow_tensorspec\": {\"features\": \"[{\\\\\"type\\\\\": \\\\\"tensor\\\\\", '\n",
       " '\\\\\"tensor-spec\\\\\": {\\\\\"dtype\\\\\": \\\\\"float64\\\\\", \\\\\"shape\\\\\": [-1, 5702]}}]\", '\n",
       " '\"targets\": null}}'), source=('{\"tags\": {\"mlflow.user\": \"codespace\", \"mlflow.source.name\": '\n",
       " '\"/home/codespace/anaconda3/lib/python3.9/site-packages/ipykernel_launcher.py\", '\n",
       " '\"mlflow.source.type\": \"LOCAL\"}}'), source_type='code'>, tags=[<InputTag: key='mlflow.data.context', value='eval'>]>]>>"
      ]
     },
     "execution_count": 55,
     "metadata": {},
     "output_type": "execute_result"
    }
   ],
   "source": [
    "best_run"
   ]
  },
  {
   "cell_type": "code",
   "execution_count": 53,
   "id": "de165453",
   "metadata": {},
   "outputs": [
    {
     "name": "stderr",
     "output_type": "stream",
     "text": [
      "Successfully registered model 'green-taxi-rf-model'.\n",
      "2024/05/25 19:00:55 INFO mlflow.store.model_registry.abstract_store: Waiting up to 300 seconds for model version to finish creation. Model name: green-taxi-rf-model, version 1\n",
      "Created version '1' of model 'green-taxi-rf-model'.\n"
     ]
    },
    {
     "data": {
      "text/plain": [
       "<ModelVersion: aliases=[], creation_timestamp=1716663655735, current_stage='None', description='', last_updated_timestamp=1716663655735, name='green-taxi-rf-model', run_id='9aa56044a50e4154bc04daaa88a12119', run_link='', source='/workspaces/mlops_z/02-experiment-tracking/homework/mlruns/artifacts/3/9aa56044a50e4154bc04daaa88a12119/artifacts/model', status='READY', status_message='', tags={}, user_id='', version='1'>"
      ]
     },
     "execution_count": 53,
     "metadata": {},
     "output_type": "execute_result"
    }
   ],
   "source": [
    "model_uri = f\"runs:/{best_run_id}/model\"\n",
    "mlflow.register_model(model_uri=model_uri, name=\"green-taxi-rf-model\")"
   ]
  },
  {
   "cell_type": "markdown",
   "id": "24569702",
   "metadata": {},
   "source": [
    "## Submit the results\n",
    "\n",
    "* Submit your results here: https://courses.datatalks.club/mlops-zoomcamp-2024/homework/hw2\n",
    "* You can submit your solution multiple times. In this case, only the last submission will be used\n",
    "* If your answer doesn't match options exactly, select the closest one\n"
   ]
  },
  {
   "cell_type": "code",
   "execution_count": null,
   "id": "b2dd7337",
   "metadata": {},
   "outputs": [],
   "source": []
  }
 ],
 "metadata": {
  "kernelspec": {
   "display_name": "Python 3 (ipykernel)",
   "language": "python",
   "name": "python3"
  },
  "language_info": {
   "codemirror_mode": {
    "name": "ipython",
    "version": 3
   },
   "file_extension": ".py",
   "mimetype": "text/x-python",
   "name": "python",
   "nbconvert_exporter": "python",
   "pygments_lexer": "ipython3",
   "version": "3.9.12"
  }
 },
 "nbformat": 4,
 "nbformat_minor": 5
}
